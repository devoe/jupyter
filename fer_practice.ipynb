{
 "cells": [
  {
   "cell_type": "code",
   "execution_count": 1,
   "metadata": {},
   "outputs": [],
   "source": [
    "import numpy as np"
   ]
  },
  {
   "cell_type": "code",
   "execution_count": 2,
   "metadata": {},
   "outputs": [],
   "source": [
    "import matplotlib.pyplot as plt\n",
    "from sklearn.utils import shuffle\n",
    "from util import getBinaryData, sigmoid, sigmoid_cost, error_rate"
   ]
  },
  {
   "cell_type": "code",
   "execution_count": 3,
   "metadata": {},
   "outputs": [
    {
     "name": "stdout",
     "output_type": "stream",
     "text": [
      "('Precision: ', 0.75, ' Recall: ', 0.5, ' F1: ', 0.6, 'Specificity: ', 0.6666666666666666, 'FPR: ', 0.3333333333333333)\n"
     ]
    }
   ],
   "source": [
    "# Calculates various metrics to evaluate a prediction model\n",
    "predictions = np.array([0,1,1,1,0,0,0,0,1])\n",
    "targets = np.array([1,0,1,1,0,0,1,1,1])\n",
    "total = float(len(targets))\n",
    "\n",
    "tp = float(np.bincount(predictions[targets == predictions])[1])\n",
    "tn = float(np.bincount(predictions[targets == predictions])[0])\n",
    "fp = float(np.bincount(predictions[targets != predictions])[1])\n",
    "fn = float(np.bincount(predictions[targets != predictions])[0])\n",
    "\n",
    "specificity = tn/(tn + fp) # Ratio of correct negatives detected out of all the actual negatives.\n",
    "fpr = fp/(fp + tn) # Ratio of incorrectly predicted negatives out of all the actual negatives. fpr = 1-specificity\n",
    "precision = tp/(tp + fp) # Ratio of correct positives detected out of all the positive predictions. \n",
    "recall = tp/(tp + fn) # Ratio of correct positives detected out of all the actual positives aka TPR aka Sensitivity\n",
    "f1_score = tp/(tp + (fn + fp)/2)\n",
    "\n",
    "print(\"Precision: \", precision, \" Recall: \",recall, \" F1: \",f1_score, \"Specificity: \",specificity, \"FPR: \",fpr)"
   ]
  },
  {
   "cell_type": "code",
   "execution_count": 9,
   "metadata": {},
   "outputs": [
    {
     "data": {
      "text/plain": [
       "(array([0.56, 0.23]), array([0.63]))"
      ]
     },
     "execution_count": 9,
     "metadata": {},
     "output_type": "execute_result"
    }
   ],
   "source": [
    "x = np.array([0.56, 0.63, 0.23])\n",
    "y = np.array([1, 0, 0])\n",
    "pY = np.round(x)\n",
    "trues = x[y == pY]\n",
    "falses = x[y != pY]\n",
    "trues, falses"
   ]
  },
  {
   "cell_type": "code",
   "execution_count": 18,
   "metadata": {},
   "outputs": [
    {
     "name": "stdout",
     "output_type": "stream",
     "text": [
      "[1 2 3 4 5 6 7]\n",
      "[11 12 13 14 15]\n"
     ]
    }
   ],
   "source": [
    "np_array1 = np.array([1,2,3,4,5,6,7,8,9,10])\n",
    "np_array2 = np.array([11,12,13,14,15,16,17,18,19,20])\n",
    "\n",
    "np_array1_a,np_array2_b = np_array1[:-3], np_array2[:-5]\n",
    "print(np_array1_a)\n",
    "print(np_array2_b)"
   ]
  },
  {
   "cell_type": "code",
   "execution_count": 12,
   "metadata": {},
   "outputs": [
    {
     "ename": "ValueError",
     "evalue": "operands could not be broadcast together with shapes (3,) (4,) ",
     "output_type": "error",
     "traceback": [
      "\u001b[0;31m---------------------------------------------------------------------------\u001b[0m",
      "\u001b[0;31mValueError\u001b[0m                                Traceback (most recent call last)",
      "\u001b[0;32m<ipython-input-12-92dfcccaca99>\u001b[0m in \u001b[0;36m<module>\u001b[0;34m()\u001b[0m\n\u001b[1;32m      2\u001b[0m \u001b[0;34m\u001b[0m\u001b[0m\n\u001b[1;32m      3\u001b[0m \u001b[0mb\u001b[0m \u001b[0;34m=\u001b[0m \u001b[0mnp\u001b[0m\u001b[0;34m.\u001b[0m\u001b[0marray\u001b[0m\u001b[0;34m(\u001b[0m\u001b[0;34m[\u001b[0m\u001b[0;36m1\u001b[0m\u001b[0;34m,\u001b[0m\u001b[0;36m2\u001b[0m\u001b[0;34m,\u001b[0m\u001b[0;36m3\u001b[0m\u001b[0;34m,\u001b[0m\u001b[0;36m4\u001b[0m\u001b[0;34m]\u001b[0m\u001b[0;34m)\u001b[0m\u001b[0;34m\u001b[0m\u001b[0m\n\u001b[0;32m----> 4\u001b[0;31m \u001b[0ma\u001b[0m\u001b[0;34m+\u001b[0m\u001b[0mb\u001b[0m\u001b[0;34m\u001b[0m\u001b[0m\n\u001b[0m",
      "\u001b[0;31mValueError\u001b[0m: operands could not be broadcast together with shapes (3,) (4,) "
     ]
    }
   ],
   "source": [
    "targets = "
   ]
  },
  {
   "cell_type": "code",
   "execution_count": 3,
   "metadata": {},
   "outputs": [
    {
     "data": {
      "text/plain": [
       "array([-5.73618614e-01,  1.82374185e+00,  1.17397660e+00, -3.20764393e-01,\n",
       "        7.14861515e-01, -2.44385546e-01, -1.37444382e+00, -7.19750304e-01,\n",
       "       -8.55945510e-01, -1.79023452e+00, -5.10955612e-01,  1.55368581e+00,\n",
       "        5.33410619e-01,  8.27449158e-02, -9.63882388e-01, -6.37998176e-02,\n",
       "       -2.36648000e-03, -8.05812145e-01, -4.65331926e-01,  1.41248957e+00,\n",
       "        5.07899046e-01, -2.88229910e+00,  1.11135142e-02, -4.62859653e-02,\n",
       "        1.20821077e+00,  1.58785757e-01, -2.90166049e-01,  1.77669257e+00,\n",
       "       -1.48168118e-03, -1.73810285e+00, -2.73108628e+00, -6.64629724e-01,\n",
       "        1.17562722e+00, -7.91485539e-01, -4.49067945e-01,  2.68513164e-01,\n",
       "        1.11813520e-01, -5.64059299e-01, -7.27891724e-01,  2.59797539e-01,\n",
       "       -1.79089494e+00,  4.96541734e-01,  2.37451201e-01,  2.20817330e-01,\n",
       "        9.12167076e-01, -1.15136098e+00, -9.58356099e-01, -6.46020082e-01,\n",
       "        7.25788566e-01,  1.57883744e-01])"
      ]
     },
     "execution_count": 3,
     "metadata": {},
     "output_type": "execute_result"
    }
   ],
   "source": [
    "N = 50\n",
    "D = 50\n",
    "w = np.random.randn(N)\n",
    "w"
   ]
  },
  {
   "cell_type": "code",
   "execution_count": 5,
   "metadata": {},
   "outputs": [
    {
     "data": {
      "text/plain": [
       "array([-8.11219224e-02,  2.57916046e-01,  1.66025363e-01, -4.53629355e-02,\n",
       "        1.01096685e-01, -3.45613353e-02, -1.94375709e-01, -1.01788064e-01,\n",
       "       -1.21048975e-01, -2.53177393e-01, -7.22600356e-02,  2.19724355e-01,\n",
       "        7.54356531e-02,  1.17018982e-02, -1.36313555e-01, -9.02265673e-03,\n",
       "       -3.34670811e-04, -1.13959046e-01, -6.58078721e-02,  1.99756191e-01,\n",
       "        7.18277720e-02, -4.07618647e-01,  1.57168826e-03, -6.54582399e-03,\n",
       "        1.70866806e-01,  2.24556972e-02, -4.10356762e-02,  2.51262272e-01,\n",
       "       -2.09541362e-04, -2.45804862e-01, -3.86233926e-01, -9.39928370e-02,\n",
       "        1.66258795e-01, -1.11932958e-01, -6.35077978e-02,  3.79734958e-02,\n",
       "        1.58128196e-02, -7.97700310e-02, -1.02939435e-01,  3.67409204e-02,\n",
       "       -2.53270791e-01,  7.02216054e-02,  3.35806709e-02,  3.12282863e-02,\n",
       "        1.28999905e-01, -1.62827031e-01, -1.35532019e-01, -9.13610362e-02,\n",
       "        1.02642003e-01,  2.23281333e-02])"
      ]
     },
     "execution_count": 5,
     "metadata": {},
     "output_type": "execute_result"
    }
   ],
   "source": [
    "w /= np.sqrt(N)\n",
    "w"
   ]
  },
  {
   "cell_type": "code",
   "execution_count": 6,
   "metadata": {},
   "outputs": [],
   "source": [
    "w_prior = np.random.randn(N)"
   ]
  },
  {
   "cell_type": "code",
   "execution_count": 12,
   "metadata": {},
   "outputs": [
    {
     "data": {
      "text/plain": [
       "array([ 1,  2,  3,  4,  5,  6,  7,  8,  9, 10, 11, 12, 13, 14, 15, 16, 17,\n",
       "       18, 19, 20, 21, 22, 23, 24, 25, 26, 27, 28, 29, 30, 31, 32, 33, 34,\n",
       "       35, 36, 37, 38, 39, 40, 41, 42, 43, 44, 45, 46, 47, 48, 49, 50])"
      ]
     },
     "execution_count": 12,
     "metadata": {},
     "output_type": "execute_result"
    }
   ],
   "source": [
    "x = np.array(range(50))+1\n",
    "x"
   ]
  },
  {
   "cell_type": "code",
   "execution_count": 26,
   "metadata": {},
   "outputs": [
    {
     "data": {
      "text/plain": [
       "<matplotlib.legend.Legend at 0x116d38590>"
      ]
     },
     "execution_count": 26,
     "metadata": {},
     "output_type": "execute_result"
    },
    {
     "data": {
      "image/png": "[encoded data removed]",
      "text/plain": [
       "<Figure size 432x288 with 1 Axes>"
      ]
     },
     "metadata": {},
     "output_type": "display_data"
    }
   ],
   "source": [
    "# Here we can see what the normalization technique of /np.sqrt(N) does to the initialized weights.\n",
    "# It brings them into the space [-1,1]\n",
    "\n",
    "fig,ax = plt.subplots()\n",
    "data = [w_prior, w]\n",
    "labels = ['w_prior','w']\n",
    "color = ['red','green']\n",
    "\n",
    "for i in xrange(len(data)):\n",
    "    ax.scatter(x,data[i], c = color[i], label = labels[i])\n",
    "\n",
    "ax.legend()"
   ]
  },
  {
   "cell_type": "code",
   "execution_count": 27,
   "metadata": {},
   "outputs": [
    {
     "data": {
      "text/plain": [
       "array([-1.,  1.,  1., -1.,  1., -1., -1., -1., -1., -1., -1.,  1.,  1.,\n",
       "        1., -1., -1., -1., -1., -1.,  1.,  1., -1.,  1., -1.,  1.,  1.,\n",
       "       -1.,  1., -1., -1., -1., -1.,  1., -1., -1.,  1.,  1., -1., -1.,\n",
       "        1., -1.,  1.,  1.,  1.,  1., -1., -1., -1.,  1.,  1.])"
      ]
     },
     "execution_count": 27,
     "metadata": {},
     "output_type": "execute_result"
    }
   ],
   "source": [
    "np.sign(w)"
   ]
  },
  {
   "cell_type": "code",
   "execution_count": 3,
   "metadata": {},
   "outputs": [],
   "source": [
    "X,Y = getBinaryData();"
   ]
  },
  {
   "cell_type": "code",
   "execution_count": 4,
   "metadata": {},
   "outputs": [
    {
     "data": {
      "text/plain": [
       "array([[0.2745098 , 0.31372549, 0.32156863, ..., 0.41568627, 0.42745098,\n",
       "        0.32156863],\n",
       "       [0.59215686, 0.58823529, 0.57647059, ..., 0.75686275, 0.71764706,\n",
       "        0.72156863],\n",
       "       [0.11764706, 0.09411765, 0.08235294, ..., 0.6745098 , 0.67843137,\n",
       "        0.67843137],\n",
       "       ...,\n",
       "       [0.54509804, 0.55294118, 0.55294118, ..., 0.54901961, 0.49803922,\n",
       "        0.38039216],\n",
       "       [0.70980392, 0.69411765, 0.69019608, ..., 0.23529412, 0.10980392,\n",
       "        0.21568627],\n",
       "       [0.06666667, 0.06666667, 0.0627451 , ..., 0.60392157, 0.52156863,\n",
       "        0.44313725]])"
      ]
     },
     "execution_count": 4,
     "metadata": {},
     "output_type": "execute_result"
    }
   ],
   "source": [
    "X"
   ]
  },
  {
   "cell_type": "code",
   "execution_count": 5,
   "metadata": {},
   "outputs": [
    {
     "data": {
      "text/plain": [
       "array([0, 0, 0, ..., 0, 0, 0])"
      ]
     },
     "execution_count": 5,
     "metadata": {},
     "output_type": "execute_result"
    }
   ],
   "source": [
    "Y"
   ]
  },
  {
   "cell_type": "code",
   "execution_count": 6,
   "metadata": {},
   "outputs": [],
   "source": [
    "X0 = X[Y==0, :]"
   ]
  },
  {
   "cell_type": "code",
   "execution_count": 7,
   "metadata": {},
   "outputs": [
    {
     "data": {
      "text/plain": [
       "array([[0.2745098 , 0.31372549, 0.32156863, ..., 0.41568627, 0.42745098,\n",
       "        0.32156863],\n",
       "       [0.59215686, 0.58823529, 0.57647059, ..., 0.75686275, 0.71764706,\n",
       "        0.72156863],\n",
       "       [0.11764706, 0.09411765, 0.08235294, ..., 0.6745098 , 0.67843137,\n",
       "        0.67843137],\n",
       "       ...,\n",
       "       [0.54509804, 0.55294118, 0.55294118, ..., 0.54901961, 0.49803922,\n",
       "        0.38039216],\n",
       "       [0.70980392, 0.69411765, 0.69019608, ..., 0.23529412, 0.10980392,\n",
       "        0.21568627],\n",
       "       [0.06666667, 0.06666667, 0.0627451 , ..., 0.60392157, 0.52156863,\n",
       "        0.44313725]])"
      ]
     },
     "execution_count": 7,
     "metadata": {},
     "output_type": "execute_result"
    }
   ],
   "source": [
    "X0"
   ]
  },
  {
   "cell_type": "code",
   "execution_count": 19,
   "metadata": {},
   "outputs": [],
   "source": [
    "X_prac = np.array([[.23, .23, .23, .23],[.40, .40, .40, .40],[.65,.65,.65,.65],[.80,.80,.80,.80,]])"
   ]
  },
  {
   "cell_type": "code",
   "execution_count": 20,
   "metadata": {},
   "outputs": [
    {
     "data": {
      "text/plain": [
       "(4, 4)"
      ]
     },
     "execution_count": 20,
     "metadata": {},
     "output_type": "execute_result"
    }
   ],
   "source": [
    "X_prac.shape"
   ]
  },
  {
   "cell_type": "code",
   "execution_count": 21,
   "metadata": {},
   "outputs": [],
   "source": [
    "Y_prac = np.array([0,1,1,0])"
   ]
  },
  {
   "cell_type": "code",
   "execution_count": 22,
   "metadata": {},
   "outputs": [],
   "source": [
    "X_0 = X_prac[Y_prac == 0,:]"
   ]
  },
  {
   "cell_type": "code",
   "execution_count": 25,
   "metadata": {},
   "outputs": [
    {
     "data": {
      "text/plain": [
       "array([[0.23, 0.23, 0.23, 0.23],\n",
       "       [0.8 , 0.8 , 0.8 , 0.8 ]])"
      ]
     },
     "execution_count": 25,
     "metadata": {},
     "output_type": "execute_result"
    }
   ],
   "source": [
    "X_0"
   ]
  },
  {
   "cell_type": "code",
   "execution_count": 26,
   "metadata": {},
   "outputs": [
    {
     "data": {
      "text/plain": [
       "(2, 4)"
      ]
     },
     "execution_count": 26,
     "metadata": {},
     "output_type": "execute_result"
    }
   ],
   "source": [
    "X_0.shape"
   ]
  },
  {
   "cell_type": "code",
   "execution_count": 27,
   "metadata": {},
   "outputs": [],
   "source": [
    "X1 = X[Y==1,:]"
   ]
  },
  {
   "cell_type": "code",
   "execution_count": 28,
   "metadata": {},
   "outputs": [
    {
     "data": {
      "text/plain": [
       "(547, 2304)"
      ]
     },
     "execution_count": 28,
     "metadata": {},
     "output_type": "execute_result"
    }
   ],
   "source": [
    "X1.shape"
   ]
  },
  {
   "cell_type": "code",
   "execution_count": 38,
   "metadata": {},
   "outputs": [],
   "source": [
    "X_1 = X_prac[Y_prac == 1, :]"
   ]
  },
  {
   "cell_type": "code",
   "execution_count": 39,
   "metadata": {},
   "outputs": [
    {
     "data": {
      "text/plain": [
       "array([[0.4 , 0.4 , 0.4 , 0.4 ],\n",
       "       [0.65, 0.65, 0.65, 0.65]])"
      ]
     },
     "execution_count": 39,
     "metadata": {},
     "output_type": "execute_result"
    }
   ],
   "source": [
    "X_1"
   ]
  },
  {
   "cell_type": "code",
   "execution_count": 40,
   "metadata": {},
   "outputs": [],
   "source": [
    "X_1 = np.repeat(X_1,9,axis=0)"
   ]
  },
  {
   "cell_type": "code",
   "execution_count": 41,
   "metadata": {},
   "outputs": [
    {
     "data": {
      "text/plain": [
       "array([[0.23, 0.23, 0.23, 0.23],\n",
       "       [0.8 , 0.8 , 0.8 , 0.8 ],\n",
       "       [0.4 , 0.4 , 0.4 , 0.4 ],\n",
       "       [0.4 , 0.4 , 0.4 , 0.4 ],\n",
       "       [0.4 , 0.4 , 0.4 , 0.4 ],\n",
       "       [0.4 , 0.4 , 0.4 , 0.4 ],\n",
       "       [0.4 , 0.4 , 0.4 , 0.4 ],\n",
       "       [0.4 , 0.4 , 0.4 , 0.4 ],\n",
       "       [0.4 , 0.4 , 0.4 , 0.4 ],\n",
       "       [0.4 , 0.4 , 0.4 , 0.4 ],\n",
       "       [0.4 , 0.4 , 0.4 , 0.4 ],\n",
       "       [0.65, 0.65, 0.65, 0.65],\n",
       "       [0.65, 0.65, 0.65, 0.65],\n",
       "       [0.65, 0.65, 0.65, 0.65],\n",
       "       [0.65, 0.65, 0.65, 0.65],\n",
       "       [0.65, 0.65, 0.65, 0.65],\n",
       "       [0.65, 0.65, 0.65, 0.65],\n",
       "       [0.65, 0.65, 0.65, 0.65],\n",
       "       [0.65, 0.65, 0.65, 0.65],\n",
       "       [0.65, 0.65, 0.65, 0.65]])"
      ]
     },
     "execution_count": 41,
     "metadata": {},
     "output_type": "execute_result"
    }
   ],
   "source": [
    "X = np.vstack([X_0,X_1])\n",
    "X"
   ]
  },
  {
   "cell_type": "code",
   "execution_count": 45,
   "metadata": {},
   "outputs": [
    {
     "data": {
      "text/plain": [
       "array([0, 0, 1, 1, 1, 1, 1, 1, 1, 1, 1, 1, 1, 1, 1, 1, 1, 1, 1, 1])"
      ]
     },
     "execution_count": 45,
     "metadata": {},
     "output_type": "execute_result"
    }
   ],
   "source": [
    "np.array([0]*len(X_0) + [1]*len(X_1))"
   ]
  },
  {
   "cell_type": "code",
   "execution_count": 48,
   "metadata": {},
   "outputs": [],
   "source": [
    "Y = ([0]*len(X_0) + [1]*len(X_1))"
   ]
  },
  {
   "cell_type": "code",
   "execution_count": 50,
   "metadata": {},
   "outputs": [
    {
     "data": {
      "text/plain": [
       "[0, 0, 1, 1, 1, 1, 1, 1, 1, 1, 1, 1, 1, 1, 1, 1, 1, 1, 1, 1]"
      ]
     },
     "execution_count": 50,
     "metadata": {},
     "output_type": "execute_result"
    }
   ],
   "source": [
    "Y"
   ]
  },
  {
   "cell_type": "code",
   "execution_count": 13,
   "metadata": {},
   "outputs": [
    {
     "name": "stdout",
     "output_type": "stream",
     "text": [
      "i: 0 cost: 699.7372324142009 error: 0.536\n",
      "i: 20 cost: 683.4636772748706 error: 0.432\n",
      "i: 40 cost: 675.7296491578657 error: 0.405\n",
      "i: 60 cost: 669.4281528732115 error: 0.388\n",
      "i: 80 cost: 664.1784553204561 error: 0.374\n",
      "i: 100 cost: 659.7232364805589 error: 0.361\n",
      "i: 120 cost: 655.8802434025054 error: 0.353\n",
      "i: 140 cost: 652.5168985799204 error: 0.349\n",
      "i: 160 cost: 649.5349013136187 error: 0.344\n",
      "i: 180 cost: 646.8602058748133 error: 0.341\n",
      "i: 200 cost: 644.4362524825049 error: 0.34\n",
      "i: 220 cost: 642.2192850213314 error: 0.344\n",
      "i: 240 cost: 640.1750522705954 error: 0.345\n",
      "i: 260 cost: 638.2764474194929 error: 0.345\n",
      "i: 280 cost: 636.501795580851 error: 0.344\n",
      "i: 300 cost: 634.8335958983524 error: 0.343\n",
      "i: 320 cost: 633.2575870462648 error: 0.338\n",
      "i: 340 cost: 631.7620456948603 error: 0.337\n",
      "i: 360 cost: 630.3372547246496 error: 0.336\n",
      "i: 380 cost: 628.9750964243724 error: 0.334\n",
      "i: 400 cost: 627.6687386033097 error: 0.334\n",
      "i: 420 cost: 626.4123903991562 error: 0.335\n",
      "i: 440 cost: 625.2011108067965 error: 0.333\n",
      "i: 460 cost: 624.0306574064559 error: 0.328\n",
      "i: 480 cost: 622.8973659770978 error: 0.324\n",
      "i: 500 cost: 621.7980540121929 error: 0.321\n",
      "i: 520 cost: 620.729942863735 error: 0.32\n",
      "i: 540 cost: 619.6905945027287 error: 0.318\n",
      "i: 560 cost: 618.6778598238477 error: 0.318\n",
      "i: 580 cost: 617.6898361260498 error: 0.318\n",
      "i: 600 cost: 616.7248319321131 error: 0.317\n",
      "i: 620 cost: 615.7813377133799 error: 0.317\n",
      "i: 640 cost: 614.8580013940759 error: 0.318\n",
      "i: 660 cost: 613.9536077463353 error: 0.318\n",
      "i: 680 cost: 613.0670609700323 error: 0.318\n",
      "i: 700 cost: 612.197369893725 error: 0.317\n",
      "i: 720 cost: 611.3436353441331 error: 0.317\n",
      "i: 740 cost: 610.5050393188578 error: 0.317\n",
      "i: 760 cost: 609.6808356659734 error: 0.316\n",
      "i: 780 cost: 608.8703420288215 error: 0.313\n",
      "i: 800 cost: 608.0729328579619 error: 0.312\n",
      "i: 820 cost: 607.2880333272093 error: 0.311\n",
      "i: 840 cost: 606.515114018835 error: 0.309\n",
      "i: 860 cost: 605.7536862658085 error: 0.306\n",
      "i: 880 cost: 605.0032980574688 error: 0.305\n"
     ]
    },
    {
     "ename": "KeyboardInterrupt",
     "evalue": "",
     "output_type": "error",
     "traceback": [
      "\u001b[0;31m---------------------------------------------------------------------------\u001b[0m",
      "\u001b[0;31mKeyboardInterrupt\u001b[0m                         Traceback (most recent call last)",
      "\u001b[0;32m<ipython-input-13-1f9dc63b059e>\u001b[0m in \u001b[0;36m<module>\u001b[0;34m()\u001b[0m\n\u001b[1;32m     78\u001b[0m \u001b[0;34m\u001b[0m\u001b[0m\n\u001b[1;32m     79\u001b[0m \u001b[0;32mif\u001b[0m \u001b[0m__name__\u001b[0m \u001b[0;34m==\u001b[0m \u001b[0;34m'__main__'\u001b[0m\u001b[0;34m:\u001b[0m\u001b[0;34m\u001b[0m\u001b[0m\n\u001b[0;32m---> 80\u001b[0;31m     \u001b[0mmain\u001b[0m\u001b[0;34m(\u001b[0m\u001b[0;34m)\u001b[0m\u001b[0;34m\u001b[0m\u001b[0m\n\u001b[0m",
      "\u001b[0;32m<ipython-input-13-1f9dc63b059e>\u001b[0m in \u001b[0;36mmain\u001b[0;34m()\u001b[0m\n\u001b[1;32m     72\u001b[0m \u001b[0;34m\u001b[0m\u001b[0m\n\u001b[1;32m     73\u001b[0m     \u001b[0mmodel\u001b[0m \u001b[0;34m=\u001b[0m \u001b[0mLogisticModel\u001b[0m\u001b[0;34m(\u001b[0m\u001b[0;34m)\u001b[0m\u001b[0;34m\u001b[0m\u001b[0m\n\u001b[0;32m---> 74\u001b[0;31m     \u001b[0mmodel\u001b[0m\u001b[0;34m.\u001b[0m\u001b[0mfit\u001b[0m\u001b[0;34m(\u001b[0m\u001b[0mX\u001b[0m\u001b[0;34m,\u001b[0m \u001b[0mY\u001b[0m\u001b[0;34m,\u001b[0m \u001b[0mshow_fig\u001b[0m\u001b[0;34m=\u001b[0m\u001b[0mTrue\u001b[0m\u001b[0;34m)\u001b[0m\u001b[0;34m\u001b[0m\u001b[0m\n\u001b[0m\u001b[1;32m     75\u001b[0m     \u001b[0mmodel\u001b[0m\u001b[0;34m.\u001b[0m\u001b[0mscore\u001b[0m\u001b[0;34m(\u001b[0m\u001b[0mX\u001b[0m\u001b[0;34m,\u001b[0m \u001b[0mY\u001b[0m\u001b[0;34m)\u001b[0m\u001b[0;34m\u001b[0m\u001b[0m\n\u001b[1;32m     76\u001b[0m     \u001b[0;31m# scores = cross_val_score(model, X, Y, cv=5)\u001b[0m\u001b[0;34m\u001b[0m\u001b[0;34m\u001b[0m\u001b[0m\n",
      "\u001b[0;32m<ipython-input-13-1f9dc63b059e>\u001b[0m in \u001b[0;36mfit\u001b[0;34m(self, X, Y, learning_rate, reg, epochs, show_fig)\u001b[0m\n\u001b[1;32m     27\u001b[0m         \u001b[0;32mfor\u001b[0m \u001b[0mi\u001b[0m \u001b[0;32min\u001b[0m \u001b[0mrange\u001b[0m\u001b[0;34m(\u001b[0m\u001b[0mepochs\u001b[0m\u001b[0;34m)\u001b[0m\u001b[0;34m:\u001b[0m\u001b[0;34m\u001b[0m\u001b[0m\n\u001b[1;32m     28\u001b[0m                 \u001b[0;31m# forward propagation and cost calculation\u001b[0m\u001b[0;34m\u001b[0m\u001b[0;34m\u001b[0m\u001b[0m\n\u001b[0;32m---> 29\u001b[0;31m                 \u001b[0mpY\u001b[0m \u001b[0;34m=\u001b[0m \u001b[0mself\u001b[0m\u001b[0;34m.\u001b[0m\u001b[0mforward\u001b[0m\u001b[0;34m(\u001b[0m\u001b[0mX\u001b[0m\u001b[0;34m)\u001b[0m\u001b[0;34m\u001b[0m\u001b[0m\n\u001b[0m\u001b[1;32m     30\u001b[0m \u001b[0;34m\u001b[0m\u001b[0m\n\u001b[1;32m     31\u001b[0m                 \u001b[0;31m# gradient descent step\u001b[0m\u001b[0;34m\u001b[0m\u001b[0;34m\u001b[0m\u001b[0m\n",
      "\u001b[0;32m<ipython-input-13-1f9dc63b059e>\u001b[0m in \u001b[0;36mforward\u001b[0;34m(self, X)\u001b[0m\n\u001b[1;32m     50\u001b[0m \u001b[0;34m\u001b[0m\u001b[0m\n\u001b[1;32m     51\u001b[0m     \u001b[0;32mdef\u001b[0m \u001b[0mforward\u001b[0m\u001b[0;34m(\u001b[0m\u001b[0mself\u001b[0m\u001b[0;34m,\u001b[0m \u001b[0mX\u001b[0m\u001b[0;34m)\u001b[0m\u001b[0;34m:\u001b[0m\u001b[0;34m\u001b[0m\u001b[0m\n\u001b[0;32m---> 52\u001b[0;31m         \u001b[0;32mreturn\u001b[0m \u001b[0msigmoid\u001b[0m\u001b[0;34m(\u001b[0m\u001b[0mX\u001b[0m\u001b[0;34m.\u001b[0m\u001b[0mdot\u001b[0m\u001b[0;34m(\u001b[0m\u001b[0mself\u001b[0m\u001b[0;34m.\u001b[0m\u001b[0mW\u001b[0m\u001b[0;34m)\u001b[0m \u001b[0;34m+\u001b[0m \u001b[0mself\u001b[0m\u001b[0;34m.\u001b[0m\u001b[0mb\u001b[0m\u001b[0;34m)\u001b[0m\u001b[0;34m\u001b[0m\u001b[0m\n\u001b[0m\u001b[1;32m     53\u001b[0m \u001b[0;34m\u001b[0m\u001b[0m\n\u001b[1;32m     54\u001b[0m     \u001b[0;32mdef\u001b[0m \u001b[0mpredict\u001b[0m\u001b[0;34m(\u001b[0m\u001b[0mself\u001b[0m\u001b[0;34m,\u001b[0m \u001b[0mX\u001b[0m\u001b[0;34m)\u001b[0m\u001b[0;34m:\u001b[0m\u001b[0;34m\u001b[0m\u001b[0m\n",
      "\u001b[0;31mKeyboardInterrupt\u001b[0m: "
     ]
    }
   ],
   "source": [
    "from __future__ import print_function, division\n",
    "from builtins import range\n",
    "# Note: you may need to update your version of future\n",
    "# sudo pip install -U future\n",
    "\n",
    "import numpy as np\n",
    "import matplotlib.pyplot as plt\n",
    "from sklearn.utils import shuffle\n",
    "from util import getBinaryData, sigmoid, sigmoid_cost, error_rate\n",
    "\n",
    "\n",
    "class LogisticModel(object):\n",
    "    def __init__(self):\n",
    "        pass\n",
    "\n",
    "    def fit(self, X, Y, learning_rate=1e-6, reg=0., epochs=120000, show_fig=False):\n",
    "        X, Y = shuffle(X, Y)\n",
    "        Xvalid, Yvalid = X[-1000:], Y[-1000:]\n",
    "        X, Y = X[:-1000], Y[:-1000]\n",
    "\n",
    "        N, D = X.shape\n",
    "        self.W = np.random.randn(D) / np.sqrt(D)\n",
    "        self.b = 0\n",
    "\n",
    "        costs = []\n",
    "        best_validation_error = 1\n",
    "        for i in range(epochs):\n",
    "                # forward propagation and cost calculation\n",
    "                pY = self.forward(X)\n",
    "\n",
    "                # gradient descent step\n",
    "                self.W -= learning_rate*(X.T.dot(pY - Y) + reg*self.W)\n",
    "                self.b -= learning_rate*((pY - Y).sum() + reg*self.b)\n",
    "\n",
    "\n",
    "                if i % 20 == 0:\n",
    "                    pYvalid = self.forward(Xvalid)\n",
    "                    c = sigmoid_cost(Yvalid, pYvalid) # uses the cross-entropy error from util.py\n",
    "                    costs.append(c)\n",
    "                    e = error_rate(Yvalid, np.round(pYvalid))\n",
    "                    print(\"i:\", i, \"cost:\", c, \"error:\", e)\n",
    "                    if e < best_validation_error:\n",
    "                        best_validation_error = e\n",
    "        print(\"best_validation_error:\", best_validation_error)\n",
    "\n",
    "        if show_fig:\n",
    "            plt.plot(costs)\n",
    "            plt.show()\n",
    "\n",
    "\n",
    "    def forward(self, X):\n",
    "        return sigmoid(X.dot(self.W) + self.b)\n",
    "\n",
    "    def predict(self, X):\n",
    "        pY = self.forward(X)\n",
    "        return np.round(pY)\n",
    "\n",
    "\n",
    "    def score(self, X, Y):\n",
    "        prediction = self.predict(X)\n",
    "        return 1 - error_rate(Y, prediction)\n",
    "\n",
    "\n",
    "def main():\n",
    "    X, Y = getBinaryData()\n",
    "\n",
    "    X0 = X[Y==0, :]\n",
    "    X1 = X[Y==1, :]\n",
    "    X1 = np.repeat(X1, 9, axis=0)\n",
    "    X = np.vstack([X0, X1])\n",
    "    Y = np.array([0]*len(X0) + [1]*len(X1))\n",
    "\n",
    "    model = LogisticModel()\n",
    "    model.fit(X, Y, show_fig=True)\n",
    "    model.score(X, Y)\n",
    "    # scores = cross_val_score(model, X, Y, cv=5)\n",
    "    # print \"score mean:\", np.mean(scores), \"stdev:\", np.std(scores)\n",
    "\n",
    "if __name__ == '__main__':\n",
    "    main()"
   ]
  },
  {
   "cell_type": "code",
   "execution_count": 23,
   "metadata": {},
   "outputs": [
    {
     "name": "stdout",
     "output_type": "stream",
     "text": [
      "Dot Product:  (8876,)\n",
      "N:  8876  D:  2304  W:  (2304,)\n"
     ]
    },
    {
     "ename": "ValueError",
     "evalue": "operands could not be broadcast together with shapes (1000,) (2304,) ",
     "output_type": "error",
     "traceback": [
      "\u001b[0;31m---------------------------------------------------------------------------\u001b[0m",
      "\u001b[0;31mValueError\u001b[0m                                Traceback (most recent call last)",
      "\u001b[0;32m<ipython-input-23-9f11e68a05d5>\u001b[0m in \u001b[0;36m<module>\u001b[0;34m()\u001b[0m\n\u001b[1;32m     72\u001b[0m \u001b[0;34m\u001b[0m\u001b[0m\n\u001b[1;32m     73\u001b[0m \u001b[0;32mif\u001b[0m \u001b[0m__name__\u001b[0m \u001b[0;34m==\u001b[0m \u001b[0;34m'__main__'\u001b[0m\u001b[0;34m:\u001b[0m\u001b[0;34m\u001b[0m\u001b[0m\n\u001b[0;32m---> 74\u001b[0;31m     \u001b[0mmain\u001b[0m\u001b[0;34m(\u001b[0m\u001b[0;34m)\u001b[0m\u001b[0;34m\u001b[0m\u001b[0m\n\u001b[0m",
      "\u001b[0;32m<ipython-input-23-9f11e68a05d5>\u001b[0m in \u001b[0;36mmain\u001b[0;34m()\u001b[0m\n\u001b[1;32m     66\u001b[0m \u001b[0;34m\u001b[0m\u001b[0m\n\u001b[1;32m     67\u001b[0m     \u001b[0mmodel\u001b[0m \u001b[0;34m=\u001b[0m \u001b[0mLogisticModel\u001b[0m\u001b[0;34m(\u001b[0m\u001b[0;34m)\u001b[0m \u001b[0;31m# Create an instance of the model\u001b[0m\u001b[0;34m\u001b[0m\u001b[0m\n\u001b[0;32m---> 68\u001b[0;31m     \u001b[0mmodel\u001b[0m\u001b[0;34m.\u001b[0m\u001b[0mfit\u001b[0m\u001b[0;34m(\u001b[0m\u001b[0mX\u001b[0m\u001b[0;34m,\u001b[0m \u001b[0mY\u001b[0m\u001b[0;34m,\u001b[0m \u001b[0mshow_fig\u001b[0m \u001b[0;34m=\u001b[0m \u001b[0mTrue\u001b[0m\u001b[0;34m)\u001b[0m \u001b[0;31m# Fit the model\u001b[0m\u001b[0;34m\u001b[0m\u001b[0m\n\u001b[0m\u001b[1;32m     69\u001b[0m     \u001b[0mmodel\u001b[0m\u001b[0;34m.\u001b[0m\u001b[0mscore\u001b[0m\u001b[0;34m(\u001b[0m\u001b[0mX\u001b[0m\u001b[0;34m,\u001b[0m \u001b[0mY\u001b[0m\u001b[0;34m)\u001b[0m \u001b[0;31m# Score the model\u001b[0m\u001b[0;34m\u001b[0m\u001b[0m\n\u001b[1;32m     70\u001b[0m     \u001b[0;31m# scores = cross_val_score(model, X, Y, cv=5)\u001b[0m\u001b[0;34m\u001b[0m\u001b[0;34m\u001b[0m\u001b[0m\n",
      "\u001b[0;32m<ipython-input-23-9f11e68a05d5>\u001b[0m in \u001b[0;36mfit\u001b[0;34m(self, X, Y, learning_rate, reg, epochs, show_fig)\u001b[0m\n\u001b[1;32m     27\u001b[0m             \u001b[0;31m# calculate cost and error rate values\u001b[0m\u001b[0;34m\u001b[0m\u001b[0;34m\u001b[0m\u001b[0m\n\u001b[1;32m     28\u001b[0m             \u001b[0;32mif\u001b[0m \u001b[0mi\u001b[0m \u001b[0;34m%\u001b[0m \u001b[0;36m20\u001b[0m \u001b[0;34m==\u001b[0m \u001b[0;36m0\u001b[0m\u001b[0;34m:\u001b[0m\u001b[0;34m\u001b[0m\u001b[0m\n\u001b[0;32m---> 29\u001b[0;31m                 \u001b[0mpYvalid\u001b[0m \u001b[0;34m=\u001b[0m \u001b[0mself\u001b[0m\u001b[0;34m.\u001b[0m\u001b[0mforward\u001b[0m\u001b[0;34m(\u001b[0m\u001b[0mXvalid\u001b[0m\u001b[0;34m)\u001b[0m\u001b[0;34m\u001b[0m\u001b[0m\n\u001b[0m\u001b[1;32m     30\u001b[0m                 \u001b[0mc\u001b[0m \u001b[0;34m=\u001b[0m \u001b[0msigmoid_cost\u001b[0m\u001b[0;34m(\u001b[0m\u001b[0mYvalid\u001b[0m\u001b[0;34m,\u001b[0m \u001b[0mpYvalid\u001b[0m\u001b[0;34m)\u001b[0m\u001b[0;34m\u001b[0m\u001b[0m\n\u001b[1;32m     31\u001b[0m                 \u001b[0mcosts\u001b[0m\u001b[0;34m.\u001b[0m\u001b[0mappend\u001b[0m\u001b[0;34m(\u001b[0m\u001b[0mc\u001b[0m\u001b[0;34m)\u001b[0m\u001b[0;34m\u001b[0m\u001b[0m\n",
      "\u001b[0;32m<ipython-input-23-9f11e68a05d5>\u001b[0m in \u001b[0;36mforward\u001b[0;34m(self, X)\u001b[0m\n\u001b[1;32m     42\u001b[0m \u001b[0;34m\u001b[0m\u001b[0m\n\u001b[1;32m     43\u001b[0m     \u001b[0;32mdef\u001b[0m \u001b[0mforward\u001b[0m\u001b[0;34m(\u001b[0m\u001b[0mself\u001b[0m\u001b[0;34m,\u001b[0m \u001b[0mX\u001b[0m\u001b[0;34m)\u001b[0m\u001b[0;34m:\u001b[0m\u001b[0;34m\u001b[0m\u001b[0m\n\u001b[0;32m---> 44\u001b[0;31m         \u001b[0mdot_product\u001b[0m \u001b[0;34m=\u001b[0m \u001b[0msigmoid\u001b[0m\u001b[0;34m(\u001b[0m\u001b[0mX\u001b[0m\u001b[0;34m.\u001b[0m\u001b[0mdot\u001b[0m\u001b[0;34m(\u001b[0m\u001b[0mself\u001b[0m\u001b[0;34m.\u001b[0m\u001b[0mW\u001b[0m\u001b[0;34m)\u001b[0m\u001b[0;34m+\u001b[0m\u001b[0mself\u001b[0m\u001b[0;34m.\u001b[0m\u001b[0mb\u001b[0m\u001b[0;34m)\u001b[0m\u001b[0;34m\u001b[0m\u001b[0m\n\u001b[0m\u001b[1;32m     45\u001b[0m         \u001b[0;32mprint\u001b[0m \u001b[0;34m(\u001b[0m\u001b[0;34m\"Dot Product: \"\u001b[0m\u001b[0;34m,\u001b[0m\u001b[0mdot_product\u001b[0m\u001b[0;34m.\u001b[0m\u001b[0mshape\u001b[0m\u001b[0;34m)\u001b[0m\u001b[0;34m\u001b[0m\u001b[0m\n\u001b[1;32m     46\u001b[0m         \u001b[0mN\u001b[0m\u001b[0;34m,\u001b[0m\u001b[0mD\u001b[0m \u001b[0;34m=\u001b[0m \u001b[0mX\u001b[0m\u001b[0;34m.\u001b[0m\u001b[0mshape\u001b[0m\u001b[0;34m\u001b[0m\u001b[0m\n",
      "\u001b[0;31mValueError\u001b[0m: operands could not be broadcast together with shapes (1000,) (2304,) "
     ]
    }
   ],
   "source": [
    "from sklearn.utils import shuffle\n",
    "from util import getBinaryData, sigmoid, sigmoid_cost, error_rate, regularize \n",
    "\n",
    "class LogisticModel(object):\n",
    "    def __init__(self):\n",
    "        pass\n",
    "    \n",
    "    def fit(self, X, Y, learning_rate = 1e-6, reg = 0.1, epochs = 120000, show_fig=False):\n",
    "        X, Y = shuffle(X, Y)\n",
    "        Xvalid, Yvalid = X[-1000:], Y[-1000:]\n",
    "        X, Y = X[:-1000], Y[:-1000]\n",
    "        \n",
    "        N, D = X.shape\n",
    "        self.W = np.random.randn(D) / np.sqrt(D)\n",
    "        self.b = 0\n",
    "        \n",
    "        costs = []\n",
    "        best_validation_error = 1\n",
    "        for i in range(epochs):\n",
    "            # get predictions by forward propagation\n",
    "            pY = self.forward(X)\n",
    "            \n",
    "            # gradient descent w/ a custom regularization function from util.py\n",
    "            self.W -= learning_rate*(X.T.dot(pY - Y) + regularize('l1',reg,self.W))\n",
    "            self.b -= learning_rate*((pY - Y).sum() + regularize('l1',reg,self.W))\n",
    "            \n",
    "            # calculate cost and error rate values\n",
    "            if i % 20 == 0:\n",
    "                pYvalid = self.forward(Xvalid)\n",
    "                c = sigmoid_cost(Yvalid, pYvalid)\n",
    "                costs.append(c)\n",
    "                e = error_rate(Yvalid, np.round(pYvalid))\n",
    "                print(\"i:\", i, \"cost:\", c, \"error:\", e)\n",
    "                if e < best_validation_error: \n",
    "                    best_validation_error = e\n",
    "        \n",
    "        print (\"best_validation_error:\",best_validation_error)\n",
    "        \n",
    "        if show_fig:\n",
    "            plt.plot(costs)\n",
    "            plt.show()\n",
    "            \n",
    "    def forward(self, X):\n",
    "        dot_product = sigmoid(X.dot(self.W)+self.b)\n",
    "        print (\"Dot Product: \",dot_product.shape)\n",
    "        N,D = X.shape\n",
    "        print(\"N: \",N,\" D: \",D,\" W: \",self.W.shape)\n",
    "        return sigmoid(X.dot(self.W) + self.b)\n",
    "    \n",
    "    def predict(self, X):\n",
    "        pY = self.forward(X)\n",
    "        return np.round(pY)\n",
    "    \n",
    "    def score(self, X, Y):\n",
    "        prediction = self.predict(X)\n",
    "        return 1 - error_rate(Y, prediction)\n",
    "\n",
    "def main():\n",
    "    X, Y = getBinaryData()\n",
    "    \n",
    "    X0 = X[Y==0, :] # Get all the x's where y = 0\n",
    "    X1 = X[Y==1, :] # Get all the x's where y = 1\n",
    "    X1 = np.repeat(X1, 9, axis=0) # Perform oversampling because of the 9:1 class imbalance\n",
    "    X = np.vstack([X0, X1]) # Create final X array\n",
    "    Y = np.array([0]*len(X0) + [1]*len(X1)) # Create a matching Y array for the targets\n",
    "    \n",
    "    model = LogisticModel() # Create an instance of the model\n",
    "    model.fit(X, Y, show_fig = True) # Fit the model\n",
    "    model.score(X, Y) # Score the model\n",
    "    # scores = cross_val_score(model, X, Y, cv=5)\n",
    "    # print \"score mean:\", np.mean(scores), \"stdev:\", np.std(scores)\n",
    "    \n",
    "if __name__ == '__main__':\n",
    "    main()"
   ]
  },
  {
   "cell_type": "code",
   "execution_count": 15,
   "metadata": {},
   "outputs": [
    {
     "data": {
      "text/plain": [
       "array([5, 7])"
      ]
     },
     "execution_count": 15,
     "metadata": {},
     "output_type": "execute_result"
    }
   ],
   "source": [
    "x = np.array([0,1,5,7])\n",
    "y = np.array([2,4,6,8])\n",
    "\n",
    "x[-2:]"
   ]
  },
  {
   "cell_type": "code",
   "execution_count": null,
   "metadata": {},
   "outputs": [],
   "source": []
  }
 ],
 "metadata": {
  "kernelspec": {
   "display_name": "Python 2",
   "language": "python",
   "name": "python2"
  },
  "language_info": {
   "codemirror_mode": {
    "name": "ipython",
    "version": 2
   },
   "file_extension": ".py",
   "mimetype": "text/x-python",
   "name": "python",
   "nbconvert_exporter": "python",
   "pygments_lexer": "ipython2",
   "version": "2.7.14"
  }
 },
 "nbformat": 4,
 "nbformat_minor": 2
}
